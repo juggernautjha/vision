{
 "cells": [
  {
   "cell_type": "code",
   "execution_count": null,
   "id": "0d4b726f",
   "metadata": {},
   "outputs": [],
   "source": [
    "import os\n",
    "import wget\n",
    "import time\n",
    "\n",
    "user = \"rahulj21\"\n",
    "pwd_ = input(\"Password Batao\")"
   ]
  },
  {
   "cell_type": "code",
   "execution_count": 27,
   "id": "9d413116",
   "metadata": {},
   "outputs": [],
   "source": [
    "from selenium import webdriver\n",
    "from selenium.webdriver.common.keys import Keys\n",
    "from selenium.webdriver.support import expected_conditions as EC\n",
    "from selenium.webdriver.common.by import By\n",
    "from selenium.webdriver.support.wait import WebDriverWait\n",
    "from selenium.webdriver.chrome.service import Service\n",
    "from webdriver_manager.chrome import ChromeDriverManager\n",
    "\n"
   ]
  },
  {
   "cell_type": "code",
   "execution_count": 72,
   "id": "58d83f76",
   "metadata": {},
   "outputs": [],
   "source": [
    "options = webdriver.ChromeOptions()\n",
    "s = Service('/home/juggernautjha/Rahul/vision/Selenium/chromedriver')\n",
    "driver = webdriver.Chrome(service = s, options = options)\n",
    "driver.get('https://hello.iitk.ac.in/user/login')\n"
   ]
  },
  {
   "cell_type": "code",
   "execution_count": 73,
   "id": "e0e7366b",
   "metadata": {},
   "outputs": [],
   "source": [
    "uname = WebDriverWait(driver, 10).until(EC.element_to_be_clickable((By.CSS_SELECTOR, \"input[name='name']\")))\n",
    "pwd = WebDriverWait(driver, 10).until(EC.element_to_be_clickable((By.CSS_SELECTOR, \"input[name='pass']\")))\n",
    "uname.clear()\n",
    "pwd.clear()\n",
    "uname.send_keys(user)\n",
    "pwd.send_keys(pwd_)\n",
    "log_in = WebDriverWait(driver, 10).until(EC.element_to_be_clickable((By.CSS_SELECTOR, \"input[id='edit-submit']\")))\n",
    "log_in.click()\n"
   ]
  },
  {
   "cell_type": "code",
   "execution_count": 100,
   "id": "93390e78",
   "metadata": {},
   "outputs": [],
   "source": [
    "driver.get(\"https://hello.iitk.ac.in/mth102aa2122/#/home\")"
   ]
  },
  {
   "cell_type": "code",
   "execution_count": 105,
   "id": "b7c225ab",
   "metadata": {},
   "outputs": [
    {
     "name": "stderr",
     "output_type": "stream",
     "text": [
      "/tmp/ipykernel_4774/4253628818.py:7: DeprecationWarning: find_element_by_partial_link_text is deprecated. Please use find_element(by=By.PARTIAL_LINK_TEXT, value=link_text) instead\n",
      "  anchors = driver.find_element_by_partial_link_text('Lecture')\n"
     ]
    },
    {
     "ename": "TypeError",
     "evalue": "'WebElement' object is not iterable",
     "output_type": "error",
     "traceback": [
      "\u001b[0;31m---------------------------------------------------------------------------\u001b[0m",
      "\u001b[0;31mTypeError\u001b[0m                                 Traceback (most recent call last)",
      "Input \u001b[0;32mIn [105]\u001b[0m, in \u001b[0;36m<cell line: 8>\u001b[0;34m()\u001b[0m\n\u001b[1;32m      6\u001b[0m         \u001b[38;5;28;01mpass\u001b[39;00m\n\u001b[1;32m      7\u001b[0m anchors \u001b[38;5;241m=\u001b[39m driver\u001b[38;5;241m.\u001b[39mfind_element_by_partial_link_text(\u001b[38;5;124m'\u001b[39m\u001b[38;5;124mLecture\u001b[39m\u001b[38;5;124m'\u001b[39m)\n\u001b[0;32m----> 8\u001b[0m \u001b[38;5;28;01mfor\u001b[39;00m i \u001b[38;5;129;01min\u001b[39;00m anchors:\n\u001b[1;32m      9\u001b[0m     \u001b[38;5;28mprint\u001b[39m(i)\n",
      "\u001b[0;31mTypeError\u001b[0m: 'WebElement' object is not iterable"
     ]
    }
   ],
   "source": [
    "listOfElements = driver.find_elements(By.CSS_SELECTOR, \"div[class='weekWrapper']\")\n",
    "for i in listOfElements:\n",
    "    try:\n",
    "        i.click()\n",
    "    except:\n",
    "        pass\n"
   ]
  },
  {
   "cell_type": "code",
   "execution_count": 109,
   "id": "5f2d0901",
   "metadata": {},
   "outputs": [
    {
     "name": "stderr",
     "output_type": "stream",
     "text": [
      "/tmp/ipykernel_4774/1707917431.py:1: DeprecationWarning: find_elements_by_partial_link_text is deprecated. Please use find_elements(by=By.PARTIAL_LINK_TEXT, value=link_text) instead\n",
      "  anchors = driver.find_elements_by_partial_link_text('Lecture')\n"
     ]
    },
    {
     "name": "stdout",
     "output_type": "stream",
     "text": [
      "https://hello.iitk.ac.in/mth102aa2122/#/lecture/8\n",
      "https://hello.iitk.ac.in/mth102aa2122/#/lecture/9\n",
      "https://hello.iitk.ac.in/mth102aa2122/#/lecture/10\n",
      "https://hello.iitk.ac.in/mth102aa2122/#/lecture/13\n",
      "https://hello.iitk.ac.in/mth102aa2122/#/lecture/11\n",
      "https://hello.iitk.ac.in/mth102aa2122/#/lecture/12\n",
      "https://hello.iitk.ac.in/mth102aa2122/#/lecture/148\n",
      "https://hello.iitk.ac.in/mth102aa2122/#/lecture/150\n",
      "https://hello.iitk.ac.in/mth102aa2122/#/lecture/153\n",
      "https://hello.iitk.ac.in/mth102aa2122/#/lecture/65\n",
      "https://hello.iitk.ac.in/mth102aa2122/#/lecture/67\n",
      "https://hello.iitk.ac.in/mth102aa2122/#/lecture/66\n",
      "https://hello.iitk.ac.in/mth102aa2122/#/lecture/68\n",
      "https://hello.iitk.ac.in/mth102aa2122/#/lecture/196\n",
      "https://hello.iitk.ac.in/mth102aa2122/#/lecture/201\n"
     ]
    }
   ],
   "source": [
    "anchors = driver.find_elements_by_partial_link_text('Lecture')\n",
    "for i in anchors:\n",
    "    print(i.get_attribute(\"href\"))"
   ]
  },
  {
   "cell_type": "markdown",
   "id": "e48dd1b0",
   "metadata": {},
   "source": [
    "#body > app-root > div:nth-child(2) > div > div.loaderInverseWrapper > app-home > div:nth-child(6) > div.weekDetailsBox > ul > li:nth-child(1) > span:nth-child(2) > div > a"
   ]
  },
  {
   "cell_type": "code",
   "execution_count": 7,
   "id": "e4e536bf",
   "metadata": {},
   "outputs": [],
   "source": [
    "\n",
    "\n"
   ]
  },
  {
   "cell_type": "code",
   "execution_count": null,
   "id": "907518f6",
   "metadata": {},
   "outputs": [],
   "source": []
  },
  {
   "cell_type": "code",
   "execution_count": null,
   "id": "b53f70f3",
   "metadata": {},
   "outputs": [],
   "source": []
  },
  {
   "cell_type": "code",
   "execution_count": null,
   "id": "2ec753e9",
   "metadata": {},
   "outputs": [],
   "source": [
    "\n"
   ]
  },
  {
   "cell_type": "code",
   "execution_count": null,
   "id": "0357625c",
   "metadata": {},
   "outputs": [],
   "source": []
  }
 ],
 "metadata": {
  "kernelspec": {
   "display_name": "Python 3 (ipykernel)",
   "language": "python",
   "name": "python3"
  },
  "language_info": {
   "codemirror_mode": {
    "name": "ipython",
    "version": 3
   },
   "file_extension": ".py",
   "mimetype": "text/x-python",
   "name": "python",
   "nbconvert_exporter": "python",
   "pygments_lexer": "ipython3",
   "version": "3.9.12"
  }
 },
 "nbformat": 4,
 "nbformat_minor": 5
}
