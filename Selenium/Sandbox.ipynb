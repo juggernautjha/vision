{
 "cells": [
  {
   "cell_type": "code",
   "execution_count": 1,
   "id": "0d4b726f",
   "metadata": {},
   "outputs": [
    {
     "name": "stdout",
     "output_type": "stream",
     "text": [
      "Password Batao: ········\n"
     ]
    }
   ],
   "source": [
    "import os\n",
    "import wget\n",
    "import time\n",
    "from getpass import getpass\n",
    "\n",
    "user = \"rahulj21\"\n",
    "pwd_ = getpass(\"Password Batao: \")"
   ]
  },
  {
   "cell_type": "code",
   "execution_count": 34,
   "id": "9d413116",
   "metadata": {},
   "outputs": [],
   "source": [
    "from selenium import webdriver\n",
    "from selenium.webdriver.common.keys import Keys\n",
    "from selenium.webdriver.support import expected_conditions as EC\n",
    "from selenium.webdriver.common.by import By\n",
    "from selenium.webdriver.support.wait import WebDriverWait\n",
    "from selenium.webdriver.chrome.service import Service\n",
    "from webdriver_manager.chrome import ChromeDriverManager\n",
    "\n"
   ]
  },
  {
   "cell_type": "code",
   "execution_count": 35,
   "id": "58d83f76",
   "metadata": {},
   "outputs": [],
   "source": [
    "options = webdriver.ChromeOptions()\n",
    "s = Service('/home/juggernautjha/Rahul/vision/Selenium/chromedriver')\n",
    "driver = webdriver.Chrome(service = s, options = options)\n",
    "driver.get('https://hello.iitk.ac.in/user/login')\n"
   ]
  },
  {
   "cell_type": "code",
   "execution_count": 36,
   "id": "e0e7366b",
   "metadata": {},
   "outputs": [],
   "source": [
    "uname = WebDriverWait(driver, 10).until(EC.element_to_be_clickable((By.CSS_SELECTOR, \"input[name='name']\")))\n",
    "pwd = WebDriverWait(driver, 10).until(EC.element_to_be_clickable((By.CSS_SELECTOR, \"input[name='pass']\")))\n",
    "uname.clear()\n",
    "pwd.clear()\n",
    "uname.send_keys(user)\n",
    "pwd.send_keys(pwd_)\n",
    "log_in = WebDriverWait(driver, 10).until(EC.element_to_be_clickable((By.CSS_SELECTOR, \"input[id='edit-submit']\")))\n",
    "log_in.click()\n"
   ]
  },
  {
   "cell_type": "code",
   "execution_count": 37,
   "id": "93390e78",
   "metadata": {},
   "outputs": [],
   "source": [
    "driver.get(\"https://hello.iitk.ac.in/mth102aa2122/#/home\")"
   ]
  },
  {
   "cell_type": "code",
   "execution_count": 38,
   "id": "b7c225ab",
   "metadata": {},
   "outputs": [],
   "source": [
    "text = \"Week 1\"\n",
    "listOfElements = driver.find_elements(By.CSS_SELECTOR, \"div[class='weekWrapper']\")\n",
    "for i in listOfElements:\n",
    "    time.sleep(3)\n",
    "    i.click()"
   ]
  },
  {
   "cell_type": "code",
   "execution_count": 39,
   "id": "09a64c79",
   "metadata": {},
   "outputs": [],
   "source": [
    "dictOfLinks = dict()"
   ]
  },
  {
   "cell_type": "code",
   "execution_count": 40,
   "id": "5f2d0901",
   "metadata": {},
   "outputs": [
    {
     "name": "stderr",
     "output_type": "stream",
     "text": [
      "/tmp/ipykernel_10099/3015857490.py:1: DeprecationWarning: find_elements_by_partial_link_text is deprecated. Please use find_elements(by=By.PARTIAL_LINK_TEXT, value=link_text) instead\n",
      "  anchors = driver.find_elements_by_partial_link_text('Lecture')\n"
     ]
    },
    {
     "name": "stdout",
     "output_type": "stream",
     "text": [
      "{'Lecture 1-Part A': 'https://hello.iitk.ac.in/mth102aa2122/#/lecture/8', 'Lecture 1-Part B': 'https://hello.iitk.ac.in/mth102aa2122/#/lecture/9', 'Lecture2-Part A': 'https://hello.iitk.ac.in/mth102aa2122/#/lecture/10', 'Lecture2-Part B': 'https://hello.iitk.ac.in/mth102aa2122/#/lecture/13', 'Lecture 3-Part A': 'https://hello.iitk.ac.in/mth102aa2122/#/lecture/11', 'Lecture 3-Part B': 'https://hello.iitk.ac.in/mth102aa2122/#/lecture/12', 'ODE Lecture 1': 'https://hello.iitk.ac.in/mth102aa2122/#/lecture/148', 'ODE Lecture 2': 'https://hello.iitk.ac.in/mth102aa2122/#/lecture/150', 'ODE Lecture 3': 'https://hello.iitk.ac.in/mth102aa2122/#/lecture/153', 'Lecture 4 - Part A': 'https://hello.iitk.ac.in/mth102aa2122/#/lecture/42', 'Lecture 4 - Part B': 'https://hello.iitk.ac.in/mth102aa2122/#/lecture/43', 'Lecture 5 - Part A': 'https://hello.iitk.ac.in/mth102aa2122/#/lecture/44', 'Lecture 5 - Part B': 'https://hello.iitk.ac.in/mth102aa2122/#/lecture/45', 'Lecture 6 - Part A': 'https://hello.iitk.ac.in/mth102aa2122/#/lecture/46', 'Lecture 6 - Part B': 'https://hello.iitk.ac.in/mth102aa2122/#/lecture/47', 'ODE Lecture 4': 'https://hello.iitk.ac.in/mth102aa2122/#/lecture/157', 'ODE Lecture 5': 'https://hello.iitk.ac.in/mth102aa2122/#/lecture/158', 'ODE Lecture 6': 'https://hello.iitk.ac.in/mth102aa2122/#/lecture/159', 'ODE Lecture 7': 'https://hello.iitk.ac.in/mth102aa2122/#/lecture/161', 'Lecture 7 Part A': 'https://hello.iitk.ac.in/mth102aa2122/#/lecture/55', 'Lecture 7 Part B': 'https://hello.iitk.ac.in/mth102aa2122/#/lecture/56', 'Lecture 8 Part A': 'https://hello.iitk.ac.in/mth102aa2122/#/lecture/57', 'Lecture 8 Part B': 'https://hello.iitk.ac.in/mth102aa2122/#/lecture/58', 'Lecture 9 Part A': 'https://hello.iitk.ac.in/mth102aa2122/#/lecture/59', 'Lecture 9 Part B': 'https://hello.iitk.ac.in/mth102aa2122/#/lecture/60', 'ODE Lecture 8': 'https://hello.iitk.ac.in/mth102aa2122/#/lecture/174', 'ODE Lecture 9': 'https://hello.iitk.ac.in/mth102aa2122/#/lecture/175', 'ODE Lecture 10': 'https://hello.iitk.ac.in/mth102aa2122/#/lecture/177', 'Lecture 10 Part A': 'https://hello.iitk.ac.in/mth102aa2122/#/lecture/65', 'Lecture 10 Part B': 'https://hello.iitk.ac.in/mth102aa2122/#/lecture/67', 'Lecture 11 Part A': 'https://hello.iitk.ac.in/mth102aa2122/#/lecture/66', 'Lecture 11 Part B': 'https://hello.iitk.ac.in/mth102aa2122/#/lecture/68', 'ODE Lecture 11': 'https://hello.iitk.ac.in/mth102aa2122/#/lecture/186', 'ODE Lecture 12': 'https://hello.iitk.ac.in/mth102aa2122/#/lecture/188', 'ODE Lecture 13': 'https://hello.iitk.ac.in/mth102aa2122/#/lecture/191', 'Lecture 12 A': 'https://hello.iitk.ac.in/mth102aa2122/#/lecture/84', 'Lecture 12 B': 'https://hello.iitk.ac.in/mth102aa2122/#/lecture/85', 'Lecture 13 A': 'https://hello.iitk.ac.in/mth102aa2122/#/lecture/86', 'Lecture 13 B': 'https://hello.iitk.ac.in/mth102aa2122/#/lecture/87', 'Lecture 14 A': 'https://hello.iitk.ac.in/mth102aa2122/#/lecture/88', 'Lecture 14 B': 'https://hello.iitk.ac.in/mth102aa2122/#/lecture/89', 'ODE Lecture 14': 'https://hello.iitk.ac.in/mth102aa2122/#/lecture/196', 'ODE Lecture 15': 'https://hello.iitk.ac.in/mth102aa2122/#/lecture/201', 'Lecture 15 A': 'https://hello.iitk.ac.in/mth102aa2122/#/lecture/105', 'Lecture 15 B': 'https://hello.iitk.ac.in/mth102aa2122/#/lecture/106', 'Lecture 16 A': 'https://hello.iitk.ac.in/mth102aa2122/#/lecture/107', 'Lecture 16 B': 'https://hello.iitk.ac.in/mth102aa2122/#/lecture/108', 'Lecture 17 A': 'https://hello.iitk.ac.in/mth102aa2122/#/lecture/109', 'Lecture 17 B': 'https://hello.iitk.ac.in/mth102aa2122/#/lecture/110', 'Lecture 18 A': 'https://hello.iitk.ac.in/mth102aa2122/#/lecture/115', 'Lecture 18 B': 'https://hello.iitk.ac.in/mth102aa2122/#/lecture/117', 'Lecture 19 A': 'https://hello.iitk.ac.in/mth102aa2122/#/lecture/118', 'Lecture 19 B': 'https://hello.iitk.ac.in/mth102aa2122/#/lecture/119'}\n"
     ]
    }
   ],
   "source": [
    "anchors = driver.find_elements_by_partial_link_text('Lecture')\n",
    "for i in anchors:\n",
    "    p = i.text.split('\\n')[0]\n",
    "    dictOfLinks[p] = i.get_attribute(\"href\")\n",
    "print(dictOfLinks)   "
   ]
  },
  {
   "cell_type": "markdown",
   "id": "e48dd1b0",
   "metadata": {},
   "source": [
    "#body > app-root > div:nth-child(2) > div > div.loaderInverseWrapper > app-home > div:nth-child(6) > div.weekDetailsBox > ul > li:nth-child(1) > span:nth-child(2) > div > a"
   ]
  },
  {
   "cell_type": "code",
   "execution_count": 41,
   "id": "e4e536bf",
   "metadata": {},
   "outputs": [],
   "source": [
    "url = dictOfLinks[\"Lecture 19 B\"]\n",
    "driver.get(url)\n",
    "time.sleep(3)"
   ]
  },
  {
   "cell_type": "code",
   "execution_count": 42,
   "id": "907518f6",
   "metadata": {},
   "outputs": [],
   "source": [
    "speed_menu = driver.find_element(by=By.CSS_SELECTOR, value='div[class = \"vjsControlContent\"]')\n",
    "speed_menu.click()\n",
    "time.sleep(2)\n",
    "three_ex = driver.find_element(by=By.XPATH, value = '//*[@id=\"videoSpeed\"]/span[1]/li')\n",
    "three_ex.click()"
   ]
  },
  {
   "cell_type": "code",
   "execution_count": null,
   "id": "b53f70f3",
   "metadata": {},
   "outputs": [],
   "source": []
  },
  {
   "cell_type": "code",
   "execution_count": null,
   "id": "2ec753e9",
   "metadata": {},
   "outputs": [],
   "source": [
    "\n"
   ]
  },
  {
   "cell_type": "code",
   "execution_count": null,
   "id": "0357625c",
   "metadata": {},
   "outputs": [],
   "source": []
  }
 ],
 "metadata": {
  "kernelspec": {
   "display_name": "Python 3 (ipykernel)",
   "language": "python",
   "name": "python3"
  },
  "language_info": {
   "codemirror_mode": {
    "name": "ipython",
    "version": 3
   },
   "file_extension": ".py",
   "mimetype": "text/x-python",
   "name": "python",
   "nbconvert_exporter": "python",
   "pygments_lexer": "ipython3",
   "version": "3.9.12"
  }
 },
 "nbformat": 4,
 "nbformat_minor": 5
}
